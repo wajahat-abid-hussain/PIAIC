{
  "nbformat": 4,
  "nbformat_minor": 0,
  "metadata": {
    "colab": {
      "name": "newswire example3.ipynb",
      "provenance": []
    },
    "kernelspec": {
      "name": "python3",
      "display_name": "Python 3"
    }
  },
  "cells": [
    {
      "cell_type": "code",
      "metadata": {
        "id": "9UJyMRkJ62Mz",
        "colab": {
          "base_uri": "https://localhost:8080/",
          "height": 34
        },
        "outputId": "cfb5d54b-00bc-435d-8b69-6f897a7d77b8"
      },
      "source": [
        "%tensorflow_version 2.x\n",
        "import tensorflow as tf"
      ],
      "execution_count": null,
      "outputs": [
        {
          "output_type": "stream",
          "text": [
            "TensorFlow is already loaded. Please restart the runtime to change versions.\n"
          ],
          "name": "stdout"
        }
      ]
    },
    {
      "cell_type": "code",
      "metadata": {
        "id": "zOsIHIs88TNQ"
      },
      "source": [
        "from keras.datasets import reuters\n",
        "(train_data, train_labels), (test_data, test_labels) = reuters.load_data(\n",
        "num_words=10000)"
      ],
      "execution_count": null,
      "outputs": []
    },
    {
      "cell_type": "code",
      "metadata": {
        "id": "pdFZIysfAvsZ",
        "colab": {
          "base_uri": "https://localhost:8080/",
          "height": 34
        },
        "outputId": "f8917827-5a24-4a50-f2c3-77d5099dd9ab"
      },
      "source": [
        "len(train_data)"
      ],
      "execution_count": null,
      "outputs": [
        {
          "output_type": "execute_result",
          "data": {
            "text/plain": [
              "8982"
            ]
          },
          "metadata": {
            "tags": []
          },
          "execution_count": 30
        }
      ]
    },
    {
      "cell_type": "code",
      "metadata": {
        "id": "BdYF5uKbA5wH",
        "colab": {
          "base_uri": "https://localhost:8080/",
          "height": 34
        },
        "outputId": "9dabc4c8-830b-436c-f245-28380c856efa"
      },
      "source": [
        "len(test_data)"
      ],
      "execution_count": null,
      "outputs": [
        {
          "output_type": "execute_result",
          "data": {
            "text/plain": [
              "2246"
            ]
          },
          "metadata": {
            "tags": []
          },
          "execution_count": 31
        }
      ]
    },
    {
      "cell_type": "code",
      "metadata": {
        "id": "3oV6pp6kA8l3",
        "colab": {
          "base_uri": "https://localhost:8080/",
          "height": 544
        },
        "outputId": "9f5f4517-84f1-4b25-d1aa-6639ed91bed9"
      },
      "source": [
        "train_data[10]"
      ],
      "execution_count": null,
      "outputs": [
        {
          "output_type": "execute_result",
          "data": {
            "text/plain": [
              "[1,\n",
              " 245,\n",
              " 273,\n",
              " 207,\n",
              " 156,\n",
              " 53,\n",
              " 74,\n",
              " 160,\n",
              " 26,\n",
              " 14,\n",
              " 46,\n",
              " 296,\n",
              " 26,\n",
              " 39,\n",
              " 74,\n",
              " 2979,\n",
              " 3554,\n",
              " 14,\n",
              " 46,\n",
              " 4689,\n",
              " 4329,\n",
              " 86,\n",
              " 61,\n",
              " 3499,\n",
              " 4795,\n",
              " 14,\n",
              " 61,\n",
              " 451,\n",
              " 4329,\n",
              " 17,\n",
              " 12]"
            ]
          },
          "metadata": {
            "tags": []
          },
          "execution_count": 32
        }
      ]
    },
    {
      "cell_type": "code",
      "metadata": {
        "id": "gDYszFOgBCsc",
        "colab": {
          "base_uri": "https://localhost:8080/",
          "height": 54
        },
        "outputId": "9ef42ef3-b60f-403f-c884-231341f830ea"
      },
      "source": [
        "word_index = reuters.get_word_index()\n",
        "reverse_word_index = dict([(value, key) for (key, value) in word_index.items()])\n",
        "decoded_newswire = ' '.join([reverse_word_index.get(i - 3, '?') for i in\n",
        "train_data[0]])\n",
        "decoded_newswire"
      ],
      "execution_count": null,
      "outputs": [
        {
          "output_type": "execute_result",
          "data": {
            "text/plain": [
              "'? ? ? said as a result of its december acquisition of space co it expects earnings per share in 1987 of 1 15 to 1 30 dlrs per share up from 70 cts in 1986 the company said pretax net should rise to nine to 10 mln dlrs from six mln dlrs in 1986 and rental operation revenues to 19 to 22 mln dlrs from 12 5 mln dlrs it said cash flow per share this year should be 2 50 to three dlrs reuter 3'"
            ]
          },
          "metadata": {
            "tags": []
          },
          "execution_count": 33
        }
      ]
    },
    {
      "cell_type": "code",
      "metadata": {
        "id": "_3FjriSlBF1K",
        "colab": {
          "base_uri": "https://localhost:8080/",
          "height": 34
        },
        "outputId": "a45e1a6e-9bb2-4348-c3f1-97e13bb024c9"
      },
      "source": [
        "train_labels[10]"
      ],
      "execution_count": null,
      "outputs": [
        {
          "output_type": "execute_result",
          "data": {
            "text/plain": [
              "3"
            ]
          },
          "metadata": {
            "tags": []
          },
          "execution_count": 34
        }
      ]
    },
    {
      "cell_type": "code",
      "metadata": {
        "id": "aBZmbjK3BNQ5"
      },
      "source": [
        "import numpy as np\n",
        "def vectorize_sequences(sequences, dimension=10000):\n",
        "  results = np.zeros((len(sequences), dimension))\n",
        "  for i, sequence in enumerate(sequences):\n",
        "    results[i, sequence] = 1.\n",
        "  return results\n",
        "  \n",
        "\n",
        "\n",
        "\n",
        "\n",
        "\n",
        "x_train = vectorize_sequences(train_data)\n",
        "x_test = vectorize_sequences(test_data)"
      ],
      "execution_count": null,
      "outputs": []
    },
    {
      "cell_type": "code",
      "metadata": {
        "id": "r3JRunRKBfDq"
      },
      "source": [
        "def to_one_hot(labels, dimension=46):\n",
        "  results = np.zeros((len(labels), dimension))\n",
        "  for i, label in enumerate(labels):\n",
        "    results[i, label] = 1.\n",
        "  return results\n",
        "\n",
        "\n",
        "\n",
        "one_hot_train_labels = to_one_hot(train_labels)\n",
        "one_hot_test_labels = to_one_hot(test_labels)\n"
      ],
      "execution_count": null,
      "outputs": []
    },
    {
      "cell_type": "code",
      "metadata": {
        "id": "ugw34DtNCTXr"
      },
      "source": [
        "from keras import models\n",
        "from keras import layers\n",
        "model = models.Sequential()\n",
        "model.add(layers.Dense(64, activation='relu', input_shape=(10000,)))\n",
        "model.add(layers.Dense(64, activation='relu'))\n",
        "model.add(layers.Dense(46, activation='softmax'))\n"
      ],
      "execution_count": null,
      "outputs": []
    },
    {
      "cell_type": "code",
      "metadata": {
        "id": "5xfm0ar0Cg6W"
      },
      "source": [
        "model.compile(optimizer='rmsprop',\n",
        "loss='categorical_crossentropy',\n",
        "metrics=['accuracy'])"
      ],
      "execution_count": null,
      "outputs": []
    },
    {
      "cell_type": "code",
      "metadata": {
        "id": "D-wJ0bsgClNu"
      },
      "source": [
        "x_val = x_train[:1000]\n",
        "partial_x_train = x_train[1000:]\n",
        "y_val = one_hot_train_labels[:1000]\n",
        "partial_y_train = one_hot_train_labels[1000:]"
      ],
      "execution_count": null,
      "outputs": []
    },
    {
      "cell_type": "code",
      "metadata": {
        "id": "hU-icDIMCqi1",
        "colab": {
          "base_uri": "https://localhost:8080/",
          "height": 714
        },
        "outputId": "87aed1b6-28f5-4462-de77-2560759f70b8"
      },
      "source": [
        "history = model.fit(partial_x_train,\n",
        "partial_y_train,\n",
        "epochs=20,\n",
        "batch_size=512,\n",
        "validation_data=(x_val, y_val))"
      ],
      "execution_count": null,
      "outputs": [
        {
          "output_type": "stream",
          "text": [
            "Train on 7982 samples, validate on 1000 samples\n",
            "Epoch 1/20\n",
            "7982/7982 [==============================] - 1s 154us/step - loss: 2.5471 - acc: 0.5340 - val_loss: 1.7280 - val_acc: 0.6710\n",
            "Epoch 2/20\n",
            "7982/7982 [==============================] - 1s 121us/step - loss: 1.4248 - acc: 0.7131 - val_loss: 1.3354 - val_acc: 0.7130\n",
            "Epoch 3/20\n",
            "7982/7982 [==============================] - 1s 122us/step - loss: 1.0673 - acc: 0.7741 - val_loss: 1.1387 - val_acc: 0.7530\n",
            "Epoch 4/20\n",
            "7982/7982 [==============================] - 1s 120us/step - loss: 0.8347 - acc: 0.8227 - val_loss: 1.0782 - val_acc: 0.7450\n",
            "Epoch 5/20\n",
            "7982/7982 [==============================] - 1s 119us/step - loss: 0.6607 - acc: 0.8578 - val_loss: 0.9513 - val_acc: 0.8000\n",
            "Epoch 6/20\n",
            "7982/7982 [==============================] - 1s 121us/step - loss: 0.5224 - acc: 0.8933 - val_loss: 0.9125 - val_acc: 0.8090\n",
            "Epoch 7/20\n",
            "7982/7982 [==============================] - 1s 120us/step - loss: 0.4194 - acc: 0.9117 - val_loss: 0.8877 - val_acc: 0.8090\n",
            "Epoch 8/20\n",
            "7982/7982 [==============================] - 1s 123us/step - loss: 0.3431 - acc: 0.9283 - val_loss: 0.8721 - val_acc: 0.8170\n",
            "Epoch 9/20\n",
            "7982/7982 [==============================] - 1s 121us/step - loss: 0.2820 - acc: 0.9377 - val_loss: 0.8763 - val_acc: 0.8190\n",
            "Epoch 10/20\n",
            "7982/7982 [==============================] - 1s 121us/step - loss: 0.2395 - acc: 0.9451 - val_loss: 0.8892 - val_acc: 0.8080\n",
            "Epoch 11/20\n",
            "7982/7982 [==============================] - 1s 119us/step - loss: 0.2069 - acc: 0.9486 - val_loss: 0.9042 - val_acc: 0.8180\n",
            "Epoch 12/20\n",
            "7982/7982 [==============================] - 1s 122us/step - loss: 0.1826 - acc: 0.9520 - val_loss: 0.9801 - val_acc: 0.8030\n",
            "Epoch 13/20\n",
            "7982/7982 [==============================] - 1s 123us/step - loss: 0.1645 - acc: 0.9525 - val_loss: 0.9464 - val_acc: 0.8150\n",
            "Epoch 14/20\n",
            "7982/7982 [==============================] - 1s 122us/step - loss: 0.1514 - acc: 0.9528 - val_loss: 0.9762 - val_acc: 0.8010\n",
            "Epoch 15/20\n",
            "7982/7982 [==============================] - 1s 122us/step - loss: 0.1422 - acc: 0.9554 - val_loss: 1.0036 - val_acc: 0.8000\n",
            "Epoch 16/20\n",
            "7982/7982 [==============================] - 1s 123us/step - loss: 0.1272 - acc: 0.9584 - val_loss: 1.0338 - val_acc: 0.7880\n",
            "Epoch 17/20\n",
            "7982/7982 [==============================] - 1s 121us/step - loss: 0.1252 - acc: 0.9569 - val_loss: 1.0767 - val_acc: 0.7910\n",
            "Epoch 18/20\n",
            "7982/7982 [==============================] - 1s 122us/step - loss: 0.1229 - acc: 0.9574 - val_loss: 1.0224 - val_acc: 0.8090\n",
            "Epoch 19/20\n",
            "7982/7982 [==============================] - 1s 118us/step - loss: 0.1139 - acc: 0.9588 - val_loss: 1.0621 - val_acc: 0.8000\n",
            "Epoch 20/20\n",
            "7982/7982 [==============================] - 1s 122us/step - loss: 0.1130 - acc: 0.9593 - val_loss: 1.0799 - val_acc: 0.7960\n"
          ],
          "name": "stdout"
        }
      ]
    },
    {
      "cell_type": "code",
      "metadata": {
        "id": "hay90YJfCteD",
        "colab": {
          "base_uri": "https://localhost:8080/",
          "height": 295
        },
        "outputId": "22971cb0-dfa0-4956-8d92-157fd460c13b"
      },
      "source": [
        "import matplotlib.pyplot as plt\n",
        "loss = history.history['loss']\n",
        "val_loss = history.history['val_loss']\n",
        "epochs = range(1, len(loss) + 1)\n",
        "plt.plot(epochs, loss, 'bo', label='Training loss')\n",
        "plt.plot(epochs, val_loss, 'b', label='Validation loss')\n",
        "plt.title('Training and validation loss')\n",
        "plt.xlabel('Epochs')\n",
        "plt.ylabel('Loss')\n",
        "plt.legend()\n",
        "plt.show()"
      ],
      "execution_count": null,
      "outputs": [
        {
          "output_type": "display_data",
          "data": {
            "image/png": "[encoded data removed]",
            "text/plain": [
              "<Figure size 432x288 with 1 Axes>"
            ]
          },
          "metadata": {
            "tags": []
          }
        }
      ]
    },
    {
      "cell_type": "code",
      "metadata": {
        "id": "h2814EJMDQXF",
        "colab": {
          "base_uri": "https://localhost:8080/",
          "height": 295
        },
        "outputId": "55780f48-9e40-4fd1-a2f6-14d834688d1b"
      },
      "source": [
        "plt.clf()\n",
        "acc = history.history['acc']\n",
        "val_acc = history.history['val_acc']\n",
        "plt.plot(epochs, acc, 'bo', label='Training acc')\n",
        "plt.plot(epochs, val_acc, 'b', label='Validation acc')\n",
        "plt.title('Training and validation accuracy')\n",
        "plt.xlabel('Epochs')\n",
        "plt.ylabel('Loss')\n",
        "plt.legend()\n",
        "plt.show()"
      ],
      "execution_count": null,
      "outputs": [
        {
          "output_type": "display_data",
          "data": {
            "image/png": "[encoded data removed]",
            "text/plain": [
              "<Figure size 432x288 with 1 Axes>"
            ]
          },
          "metadata": {
            "tags": []
          }
        }
      ]
    },
    {
      "cell_type": "code",
      "metadata": {
        "id": "r0aTQIiGDWLg",
        "colab": {
          "base_uri": "https://localhost:8080/",
          "height": 323
        },
        "outputId": "bfad70f3-dc7d-4b0a-8c4d-a4a0d4d48f5d"
      },
      "source": [
        "model = models.Sequential()\n",
        "model.add(layers.Dense(64, activation='relu', input_shape=(10000,)))\n",
        "model.add(layers.Dense(64, activation='relu'))\n",
        "model.add(layers.Dense(46, activation='softmax'))\n",
        "model.compile(optimizer='rmsprop',\n",
        "loss='categorical_crossentropy',\n",
        "metrics=['accuracy'])\n",
        "model.fit(partial_x_train,\n",
        "partial_y_train,\n",
        "epochs=8,\n",
        "batch_size=512,\n",
        "validation_data=(x_val, y_val))\n",
        "results = model.evaluate(x_test, one_hot_test_labels)"
      ],
      "execution_count": null,
      "outputs": [
        {
          "output_type": "stream",
          "text": [
            "Train on 7982 samples, validate on 1000 samples\n",
            "Epoch 1/8\n",
            "7982/7982 [==============================] - 1s 161us/step - loss: 2.5333 - acc: 0.5093 - val_loss: 1.7128 - val_acc: 0.6230\n",
            "Epoch 2/8\n",
            "7982/7982 [==============================] - 1s 120us/step - loss: 1.4141 - acc: 0.6948 - val_loss: 1.3419 - val_acc: 0.7080\n",
            "Epoch 3/8\n",
            "7982/7982 [==============================] - 1s 120us/step - loss: 1.0631 - acc: 0.7712 - val_loss: 1.1842 - val_acc: 0.7440\n",
            "Epoch 4/8\n",
            "7982/7982 [==============================] - 1s 118us/step - loss: 0.8374 - acc: 0.8208 - val_loss: 1.0602 - val_acc: 0.7690\n",
            "Epoch 5/8\n",
            "7982/7982 [==============================] - 1s 119us/step - loss: 0.6585 - acc: 0.8594 - val_loss: 0.9763 - val_acc: 0.7910\n",
            "Epoch 6/8\n",
            "7982/7982 [==============================] - 1s 122us/step - loss: 0.5228 - acc: 0.8886 - val_loss: 0.9408 - val_acc: 0.8030\n",
            "Epoch 7/8\n",
            "7982/7982 [==============================] - 1s 121us/step - loss: 0.4196 - acc: 0.9118 - val_loss: 0.9083 - val_acc: 0.8240\n",
            "Epoch 8/8\n",
            "7982/7982 [==============================] - 1s 120us/step - loss: 0.3429 - acc: 0.9263 - val_loss: 0.8950 - val_acc: 0.8180\n",
            "2246/2246 [==============================] - 0s 90us/step\n"
          ],
          "name": "stdout"
        }
      ]
    },
    {
      "cell_type": "code",
      "metadata": {
        "id": "P1Wgd5IaDnPI",
        "colab": {
          "base_uri": "https://localhost:8080/",
          "height": 34
        },
        "outputId": "b6597629-e748-4ef5-9034-02fbb098bada"
      },
      "source": [
        "results"
      ],
      "execution_count": null,
      "outputs": [
        {
          "output_type": "execute_result",
          "data": {
            "text/plain": [
              "[0.9590208381812485, 0.7934105076220879]"
            ]
          },
          "metadata": {
            "tags": []
          },
          "execution_count": 44
        }
      ]
    },
    {
      "cell_type": "code",
      "metadata": {
        "id": "DNOhqsxtD9pB",
        "colab": {
          "base_uri": "https://localhost:8080/",
          "height": 34
        },
        "outputId": "299451bd-47b8-48d6-b139-a396e4448ea4"
      },
      "source": [
        "model.metrics_names"
      ],
      "execution_count": null,
      "outputs": [
        {
          "output_type": "execute_result",
          "data": {
            "text/plain": [
              "['loss', 'acc']"
            ]
          },
          "metadata": {
            "tags": []
          },
          "execution_count": 45
        }
      ]
    },
    {
      "cell_type": "code",
      "metadata": {
        "id": "ANjNQVOcMrC6",
        "colab": {
          "base_uri": "https://localhost:8080/",
          "height": 34
        },
        "outputId": "3dd64c04-c7d7-447f-e4e8-2fefeb7d7cdb"
      },
      "source": [
        "model.evaluate()\n"
      ],
      "execution_count": null,
      "outputs": [
        {
          "output_type": "execute_result",
          "data": {
            "text/plain": [
              "['accuracy']"
            ]
          },
          "metadata": {
            "tags": []
          },
          "execution_count": 46
        }
      ]
    },
    {
      "cell_type": "code",
      "metadata": {
        "id": "AOpRhdJ6N0Db"
      },
      "source": [
        ""
      ],
      "execution_count": null,
      "outputs": []
    }
  ]
}