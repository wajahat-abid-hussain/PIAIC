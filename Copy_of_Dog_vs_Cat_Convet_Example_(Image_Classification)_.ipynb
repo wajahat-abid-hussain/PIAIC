{
  "cells": [
    {
      "cell_type": "markdown",
      "metadata": {
        "id": "131vFq1ioSMJ"
      },
      "source": [
        "### Copying images to training, validation, and test directories"
      ]
    },
    {
      "cell_type": "code",
      "execution_count": null,
      "metadata": {
        "id": "5fW8l3eroeyx"
      },
      "outputs": [],
      "source": [
        "import os, shutil"
      ]
    },
    {
      "cell_type": "code",
      "execution_count": null,
      "metadata": {
        "id": "Jt449i9kopL4"
      },
      "outputs": [],
      "source": [
        "original_dataset_dir = '/content/drive/MyDrive/kaggle_original_data'"
      ]
    },
    {
      "cell_type": "code",
      "execution_count": null,
      "metadata": {
        "id": "osWhS0m7pdfi"
      },
      "outputs": [],
      "source": [
        "base_dir = '/content/cats_and_dogs_small'\n",
        "os.mkdir(base_dir)"
      ]
    },
    {
      "cell_type": "code",
      "execution_count": null,
      "metadata": {
        "id": "D7JiJEk6pzxs"
      },
      "outputs": [],
      "source": [
        "train_dir = os.path.join(base_dir, 'train')\n",
        "os.mkdir(train_dir)"
      ]
    },
    {
      "cell_type": "code",
      "execution_count": null,
      "metadata": {
        "id": "nj2SWT7gp-PO"
      },
      "outputs": [],
      "source": [
        "validation_dir = os.path.join(base_dir, 'validation')\n",
        "os.mkdir(validation_dir)\n"
      ]
    },
    {
      "cell_type": "code",
      "execution_count": null,
      "metadata": {
        "id": "H_IogfjIqD3G"
      },
      "outputs": [],
      "source": [
        "test_dir = os.path.join(base_dir, 'test')\n",
        "os.mkdir(test_dir)"
      ]
    },
    {
      "cell_type": "code",
      "execution_count": null,
      "metadata": {
        "id": "XdVuTea4qQPI"
      },
      "outputs": [],
      "source": [
        "train_cats_dir = os.path.join(train_dir, 'cats')\n",
        "os.mkdir(train_cats_dir)"
      ]
    },
    {
      "cell_type": "code",
      "execution_count": null,
      "metadata": {
        "id": "J14-x5-IqVpK"
      },
      "outputs": [],
      "source": [
        "train_dogs_dir = os.path.join(train_dir, 'dogs')\n",
        "os.mkdir(train_dogs_dir)"
      ]
    },
    {
      "cell_type": "code",
      "execution_count": null,
      "metadata": {
        "id": "2DKgzCVRqabg"
      },
      "outputs": [],
      "source": [
        "validation_cats_dir = os.path.join(validation_dir, 'cats')\n",
        "os.mkdir(validation_cats_dir)"
      ]
    },
    {
      "cell_type": "code",
      "execution_count": null,
      "metadata": {
        "id": "E4CC10y6qeFc"
      },
      "outputs": [],
      "source": [
        "validation_dogs_dir = os.path.join(validation_dir, 'dogs')\n",
        "os.mkdir(validation_dogs_dir)"
      ]
    },
    {
      "cell_type": "code",
      "execution_count": null,
      "metadata": {
        "id": "i4nw00xLqhfZ"
      },
      "outputs": [],
      "source": [
        "test_cats_dir = os.path.join(test_dir, 'cats')\n",
        "os.mkdir(test_cats_dir)\n",
        "test_dogs_dir = os.path.join(test_dir, 'dogs')\n",
        "os.mkdir(test_dogs_dir)"
      ]
    },
    {
      "cell_type": "code",
      "execution_count": null,
      "metadata": {
        "id": "VyykwRh3qjh2"
      },
      "outputs": [],
      "source": [
        "fnames = ['cat.{}.jpg'.format(i) for i in range(1000)]\n",
        "for fname in fnames:\n",
        "  src = os.path.join(original_dataset_dir, fname)\n",
        "  dst = os.path.join(train_cats_dir, fname)\n",
        "  shutil.copyfile(src, dst)"
      ]
    },
    {
      "cell_type": "code",
      "execution_count": null,
      "metadata": {
        "colab": {
          "background_save": true
        },
        "id": "nChXzzHbqsBo"
      },
      "outputs": [],
      "source": [
        "fnames = ['cat.{}.jpg'.format(i) for i in range(1000, 1500)]\n",
        "for fname in fnames:\n",
        "  src = os.path.join(original_dataset_dir, fname)\n",
        "  dst = os.path.join(validation_cats_dir, fname)\n",
        "  shutil.copyfile(src, dst)"
      ]
    },
    {
      "cell_type": "code",
      "execution_count": null,
      "metadata": {
        "id": "2dwlrZPWsdp7"
      },
      "outputs": [],
      "source": [
        "fnames = ['cat.{}.jpg'.format(i) for i in range(1500, 2000)]\n",
        "for fname in fnames:\n",
        "  src = os.path.join(original_dataset_dir, fname)\n",
        "  dst = os.path.join(test_cats_dir, fname)\n",
        "  shutil.copyfile(src, dst)"
      ]
    },
    {
      "cell_type": "code",
      "execution_count": null,
      "metadata": {
        "colab": {
          "background_save": true
        },
        "id": "TZTHMokGt1ag"
      },
      "outputs": [],
      "source": [
        "fnames = ['dog.{}.jpg'.format(i) for i in range(1000)]\n",
        "for fname in fnames:\n",
        "  src = os.path.join(original_dataset_dir, fname)\n",
        "  dst = os.path.join(train_dogs_dir, fname)\n",
        "  shutil.copyfile(src, dst)\n",
        "\n",
        "\n",
        "fnames = ['dog.{}.jpg'.format(i) for i in range(1000, 1500)]\n",
        "for fname in fnames:\n",
        "  src = os.path.join(original_dataset_dir, fname)\n",
        "  dst = os.path.join(validation_dogs_dir, fname)\n",
        "  shutil.copyfile(src, dst)\n",
        "\n",
        "\n",
        "  \n",
        "fnames = ['dog.{}.jpg'.format(i) for i in range(1500, 2000)]\n",
        "for fname in fnames:\n",
        "  src = os.path.join(original_dataset_dir, fname)\n",
        "  dst = os.path.join(test_dogs_dir, fname)\n",
        "  shutil.copyfile(src, dst)"
      ]
    },
    {
      "cell_type": "code",
      "execution_count": null,
      "metadata": {
        "colab": {
          "background_save": true,
          "base_uri": "https://localhost:8080/"
        },
        "id": "LHERcbKlv-qF",
        "outputId": "6502de1c-41ea-4b12-9920-86339bd8a699"
      },
      "outputs": [
        {
          "name": "stdout",
          "output_type": "stream",
          "text": [
            "total training cat images: 1000\n"
          ]
        }
      ],
      "source": [
        "print('total training cat images:', len(os.listdir(train_cats_dir)))"
      ]
    },
    {
      "cell_type": "code",
      "execution_count": null,
      "metadata": {
        "colab": {
          "background_save": true,
          "base_uri": "https://localhost:8080/"
        },
        "id": "6S7a28EjyErE",
        "outputId": "d8401112-148c-4b16-f3f9-0ffa0c9805c3"
      },
      "outputs": [
        {
          "name": "stdout",
          "output_type": "stream",
          "text": [
            "total training dog images: 1000\n"
          ]
        }
      ],
      "source": [
        "print('total training dog images:', len(os.listdir(train_dogs_dir)))"
      ]
    },
    {
      "cell_type": "code",
      "execution_count": null,
      "metadata": {
        "colab": {
          "background_save": true,
          "base_uri": "https://localhost:8080/"
        },
        "id": "WBZ3VAMmyHVI",
        "outputId": "01c0c88c-aef8-49c5-e417-637c3d6d7222"
      },
      "outputs": [
        {
          "name": "stdout",
          "output_type": "stream",
          "text": [
            "total validation cat images: 500\n"
          ]
        }
      ],
      "source": [
        "print('total validation cat images:', len(os.listdir(validation_cats_dir)))"
      ]
    },
    {
      "cell_type": "code",
      "execution_count": null,
      "metadata": {
        "colab": {
          "background_save": true,
          "base_uri": "https://localhost:8080/"
        },
        "id": "89JnOL0qyKw6",
        "outputId": "23db42cd-a224-466d-de96-53b13e2beb31"
      },
      "outputs": [
        {
          "name": "stdout",
          "output_type": "stream",
          "text": [
            "total validation dog images: 500\n"
          ]
        }
      ],
      "source": [
        "print('total validation dog images:', len(os.listdir(validation_dogs_dir)))"
      ]
    },
    {
      "cell_type": "markdown",
      "metadata": {
        "id": "UhTELmy-yv6i"
      },
      "source": [
        "### **Instantiating a small convnet for dogs vs. cats classification**"
      ]
    },
    {
      "cell_type": "code",
      "execution_count": null,
      "metadata": {
        "colab": {
          "background_save": true
        },
        "id": "cwK6C4xuyWm4"
      },
      "outputs": [],
      "source": [
        "from keras import layers\n",
        "from keras import models"
      ]
    },
    {
      "cell_type": "code",
      "execution_count": null,
      "metadata": {
        "colab": {
          "background_save": true
        },
        "id": "HIXBREgWy9MA"
      },
      "outputs": [],
      "source": [
        "model = models.Sequential()\n",
        "model.add(layers.Conv2D(32, (3, 3), activation='relu',input_shape=(150, 150, 3)))\n",
        "model.add(layers.MaxPooling2D((2, 2)))\n",
        "model.add(layers.Conv2D(64, (3, 3), activation='relu'))\n",
        "model.add(layers.MaxPooling2D((2, 2)))\n",
        "model.add(layers.Conv2D(128, (3, 3), activation='relu'))\n",
        "model.add(layers.MaxPooling2D((2, 2)))\n",
        "model.add(layers.Conv2D(128, (3, 3), activation='relu'))\n",
        "model.add(layers.MaxPooling2D((2, 2)))\n",
        "model.add(layers.Flatten())\n",
        "model.add(layers.Dense(512, activation='relu'))\n",
        "model.add(layers.Dense(1, activation='sigmoid'))"
      ]
    },
    {
      "cell_type": "code",
      "execution_count": null,
      "metadata": {
        "colab": {
          "background_save": true,
          "base_uri": "https://localhost:8080/"
        },
        "id": "IUxc51gJzB_k",
        "outputId": "7968af5f-6b0e-4ae9-baff-f546687e0243"
      },
      "outputs": [
        {
          "name": "stdout",
          "output_type": "stream",
          "text": [
            "Model: \"sequential\"\n",
            "_________________________________________________________________\n",
            " Layer (type)                Output Shape              Param #   \n",
            "=================================================================\n",
            " conv2d (Conv2D)             (None, 148, 148, 32)      896       \n",
            "                                                                 \n",
            " max_pooling2d (MaxPooling2D  (None, 74, 74, 32)       0         \n",
            " )                                                               \n",
            "                                                                 \n",
            " conv2d_1 (Conv2D)           (None, 72, 72, 64)        18496     \n",
            "                                                                 \n",
            " max_pooling2d_1 (MaxPooling  (None, 36, 36, 64)       0         \n",
            " 2D)                                                             \n",
            "                                                                 \n",
            " conv2d_2 (Conv2D)           (None, 34, 34, 128)       73856     \n",
            "                                                                 \n",
            " max_pooling2d_2 (MaxPooling  (None, 17, 17, 128)      0         \n",
            " 2D)                                                             \n",
            "                                                                 \n",
            " conv2d_3 (Conv2D)           (None, 15, 15, 128)       147584    \n",
            "                                                                 \n",
            " max_pooling2d_3 (MaxPooling  (None, 7, 7, 128)        0         \n",
            " 2D)                                                             \n",
            "                                                                 \n",
            " flatten (Flatten)           (None, 6272)              0         \n",
            "                                                                 \n",
            " dense (Dense)               (None, 512)               3211776   \n",
            "                                                                 \n",
            " dense_1 (Dense)             (None, 1)                 513       \n",
            "                                                                 \n",
            "=================================================================\n",
            "Total params: 3,453,121\n",
            "Trainable params: 3,453,121\n",
            "Non-trainable params: 0\n",
            "_________________________________________________________________\n"
          ]
        }
      ],
      "source": [
        "model.summary()"
      ]
    },
    {
      "cell_type": "markdown",
      "metadata": {
        "id": "C33R-B7_z0Ne"
      },
      "source": [
        "## **Configuring the model for training**"
      ]
    },
    {
      "cell_type": "code",
      "execution_count": null,
      "metadata": {
        "colab": {
          "background_save": true
        },
        "id": "NZNTJJyKzNO7"
      },
      "outputs": [],
      "source": [
        "from tensorflow.keras import optimizers\n",
        "model.compile(loss='binary_crossentropy',\n",
        "optimizer=optimizers.RMSprop(learning_rate=1e-4),\n",
        "metrics=['acc'])"
      ]
    },
    {
      "cell_type": "markdown",
      "metadata": {
        "id": "_11xHi4C0O_9"
      },
      "source": [
        "## **Data preprocessing**"
      ]
    },
    {
      "cell_type": "code",
      "execution_count": null,
      "metadata": {
        "colab": {
          "background_save": true
        },
        "id": "2jABNwD3z_Nh"
      },
      "outputs": [],
      "source": [
        "from keras.preprocessing.image import ImageDataGenerator"
      ]
    },
    {
      "cell_type": "code",
      "execution_count": null,
      "metadata": {
        "colab": {
          "background_save": true,
          "base_uri": "https://localhost:8080/"
        },
        "id": "9W5hvM7Y0c3-",
        "outputId": "34e9c8c6-0930-47cf-c4c0-8f86ce5144f7"
      },
      "outputs": [
        {
          "name": "stdout",
          "output_type": "stream",
          "text": [
            "Found 2000 images belonging to 2 classes.\n",
            "Found 1000 images belonging to 2 classes.\n"
          ]
        }
      ],
      "source": [
        "train_datagen = ImageDataGenerator(rescale=1./255)\n",
        "\n",
        "test_datagen = ImageDataGenerator(rescale=1./255)\n",
        "\n",
        "train_generator = train_datagen.flow_from_directory(train_dir,target_size=(150, 150),batch_size=20,class_mode='binary')\n",
        "\n",
        "validation_generator = test_datagen.flow_from_directory(validation_dir,target_size=(150, 150),batch_size=20,class_mode='binary')"
      ]
    },
    {
      "cell_type": "markdown",
      "metadata": {
        "id": "6NekHqVn20lQ"
      },
      "source": [
        "# Fitting the model using a batch generator"
      ]
    },
    {
      "cell_type": "code",
      "execution_count": null,
      "metadata": {
        "colab": {
          "base_uri": "https://localhost:8080/"
        },
        "id": "ci6kZGkF23Sk",
        "outputId": "c4ef1699-e73c-4063-886e-e318e792168c"
      },
      "outputs": [
        {
          "name": "stderr",
          "output_type": "stream",
          "text": [
            "/usr/local/lib/python3.7/dist-packages/ipykernel_launcher.py:6: UserWarning: `Model.fit_generator` is deprecated and will be removed in a future version. Please use `Model.fit`, which supports generators.\n",
            "  \n"
          ]
        },
        {
          "name": "stdout",
          "output_type": "stream",
          "text": [
            "Epoch 1/30\n",
            "100/100 [==============================] - 25s 116ms/step - loss: 0.6873 - acc: 0.5360 - val_loss: 0.7112 - val_acc: 0.5010\n",
            "Epoch 2/30\n",
            "100/100 [==============================] - 11s 115ms/step - loss: 0.6472 - acc: 0.6275 - val_loss: 0.6567 - val_acc: 0.6000\n",
            "Epoch 3/30\n",
            "100/100 [==============================] - 12s 116ms/step - loss: 0.6034 - acc: 0.6840 - val_loss: 0.7605 - val_acc: 0.5450\n",
            "Epoch 4/30\n",
            "100/100 [==============================] - 11s 115ms/step - loss: 0.5712 - acc: 0.6950 - val_loss: 0.5946 - val_acc: 0.6860\n",
            "Epoch 5/30\n",
            "100/100 [==============================] - 11s 114ms/step - loss: 0.5310 - acc: 0.7340 - val_loss: 0.6102 - val_acc: 0.6620\n",
            "Epoch 6/30\n",
            "100/100 [==============================] - 11s 115ms/step - loss: 0.5077 - acc: 0.7530 - val_loss: 0.6043 - val_acc: 0.6770\n",
            "Epoch 7/30\n",
            "100/100 [==============================] - 11s 112ms/step - loss: 0.4807 - acc: 0.7645 - val_loss: 0.5559 - val_acc: 0.7170\n",
            "Epoch 8/30\n",
            "100/100 [==============================] - 11s 114ms/step - loss: 0.4542 - acc: 0.7870 - val_loss: 0.5492 - val_acc: 0.7110\n",
            "Epoch 9/30\n",
            "100/100 [==============================] - 11s 113ms/step - loss: 0.4319 - acc: 0.7960 - val_loss: 0.5802 - val_acc: 0.6970\n",
            "Epoch 10/30\n",
            "100/100 [==============================] - 11s 115ms/step - loss: 0.4105 - acc: 0.8185 - val_loss: 0.7016 - val_acc: 0.6890\n",
            "Epoch 11/30\n",
            "100/100 [==============================] - 11s 112ms/step - loss: 0.3881 - acc: 0.8240 - val_loss: 0.5551 - val_acc: 0.7160\n",
            "Epoch 12/30\n",
            "100/100 [==============================] - 11s 114ms/step - loss: 0.3633 - acc: 0.8470 - val_loss: 0.6045 - val_acc: 0.7000\n",
            "Epoch 13/30\n",
            "100/100 [==============================] - 11s 114ms/step - loss: 0.3376 - acc: 0.8545 - val_loss: 0.6011 - val_acc: 0.7170\n",
            "Epoch 14/30\n",
            "100/100 [==============================] - 11s 114ms/step - loss: 0.3198 - acc: 0.8610 - val_loss: 0.5924 - val_acc: 0.7230\n",
            "Epoch 15/30\n",
            "100/100 [==============================] - 12s 115ms/step - loss: 0.2951 - acc: 0.8755 - val_loss: 0.6059 - val_acc: 0.7190\n",
            "Epoch 16/30\n",
            "100/100 [==============================] - 11s 113ms/step - loss: 0.2697 - acc: 0.8945 - val_loss: 0.5800 - val_acc: 0.7360\n",
            "Epoch 17/30\n",
            "100/100 [==============================] - 13s 133ms/step - loss: 0.2491 - acc: 0.8970 - val_loss: 0.5997 - val_acc: 0.7340\n",
            "Epoch 18/30\n",
            "100/100 [==============================] - 11s 114ms/step - loss: 0.2316 - acc: 0.9080 - val_loss: 0.5857 - val_acc: 0.7380\n",
            "Epoch 19/30\n",
            "100/100 [==============================] - 11s 113ms/step - loss: 0.2094 - acc: 0.9305 - val_loss: 0.6490 - val_acc: 0.7470\n",
            "Epoch 20/30\n",
            "100/100 [==============================] - 11s 113ms/step - loss: 0.1883 - acc: 0.9270 - val_loss: 0.6369 - val_acc: 0.7470\n",
            "Epoch 21/30\n",
            "100/100 [==============================] - 11s 114ms/step - loss: 0.1733 - acc: 0.9375 - val_loss: 0.6837 - val_acc: 0.7400\n",
            "Epoch 22/30\n",
            "100/100 [==============================] - 11s 113ms/step - loss: 0.1539 - acc: 0.9425 - val_loss: 0.6932 - val_acc: 0.7260\n",
            "Epoch 23/30\n",
            "100/100 [==============================] - 11s 113ms/step - loss: 0.1408 - acc: 0.9535 - val_loss: 0.7269 - val_acc: 0.7450\n",
            "Epoch 24/30\n",
            "100/100 [==============================] - 11s 112ms/step - loss: 0.1147 - acc: 0.9655 - val_loss: 0.6827 - val_acc: 0.7430\n",
            "Epoch 25/30\n",
            "100/100 [==============================] - 11s 115ms/step - loss: 0.1099 - acc: 0.9630 - val_loss: 0.7461 - val_acc: 0.7490\n",
            "Epoch 26/30\n",
            "100/100 [==============================] - 11s 113ms/step - loss: 0.0954 - acc: 0.9720 - val_loss: 0.7820 - val_acc: 0.7290\n",
            "Epoch 27/30\n",
            "100/100 [==============================] - 11s 115ms/step - loss: 0.0838 - acc: 0.9750 - val_loss: 0.7750 - val_acc: 0.7410\n",
            "Epoch 28/30\n",
            "100/100 [==============================] - 11s 115ms/step - loss: 0.0736 - acc: 0.9770 - val_loss: 0.8730 - val_acc: 0.7190\n",
            "Epoch 29/30\n",
            "100/100 [==============================] - 11s 115ms/step - loss: 0.0603 - acc: 0.9855 - val_loss: 0.9838 - val_acc: 0.7250\n",
            "Epoch 30/30\n",
            "100/100 [==============================] - 11s 115ms/step - loss: 0.0578 - acc: 0.9810 - val_loss: 0.8536 - val_acc: 0.7440\n"
          ]
        }
      ],
      "source": [
        "history = model.fit_generator(\n",
        "train_generator,\n",
        "steps_per_epoch=100,\n",
        "epochs=30,\n",
        "validation_data=validation_generator,\n",
        "validation_steps=50)"
      ]
    },
    {
      "cell_type": "code",
      "execution_count": null,
      "metadata": {
        "id": "z8R4nKwQ290t"
      },
      "outputs": [],
      "source": [
        "model.save('cats_and_dogs_small_1.h5')"
      ]
    },
    {
      "cell_type": "code",
      "execution_count": null,
      "metadata": {
        "id": "X2dJI9887t7J"
      },
      "outputs": [],
      "source": [
        "import matplotlib.pyplot as plt"
      ]
    },
    {
      "cell_type": "code",
      "execution_count": null,
      "metadata": {
        "id": "QKk3gq_07yNn"
      },
      "outputs": [],
      "source": [
        "acc = history.history['acc']\n",
        "val_acc = history.history['val_acc']\n",
        "loss = history.history['loss']\n",
        "val_loss = history.history['val_loss']"
      ]
    },
    {
      "cell_type": "code",
      "execution_count": null,
      "metadata": {
        "id": "erB-AXouQGDG"
      },
      "outputs": [],
      "source": [
        "epochs = range(1, len(acc) + 1)"
      ]
    },
    {
      "cell_type": "code",
      "execution_count": null,
      "metadata": {
        "colab": {
          "base_uri": "https://localhost:8080/",
          "height": 298
        },
        "id": "EtbByorNXkwM",
        "outputId": "fd0fd9ec-49cc-4097-e120-8ab906a3a1de"
      },
      "outputs": [
        {
          "data": {
            "text/plain": [
              "<matplotlib.legend.Legend at 0x7f6cdb527350>"
            ]
          },
          "execution_count": 33,
          "metadata": {},
          "output_type": "execute_result"
        },
        {
          "data": {
            "image/png": "[encoded data removed]",
            "text/plain": [
              "<Figure size 432x288 with 1 Axes>"
            ]
          },
          "metadata": {},
          "output_type": "display_data"
        }
      ],
      "source": [
        "plt.plot(epochs, acc, 'bo', label='Training acc')\n",
        "plt.plot(epochs, val_acc, 'b', label='Validation acc')\n",
        "plt.title('Training and validation accuracy')\n",
        "plt.legend()"
      ]
    },
    {
      "cell_type": "code",
      "execution_count": null,
      "metadata": {
        "colab": {
          "base_uri": "https://localhost:8080/",
          "height": 52
        },
        "id": "sinmZ_6hXmbI",
        "outputId": "0f914a39-505f-4dd4-c03f-8268c5638a9b"
      },
      "outputs": [
        {
          "data": {
            "text/plain": [
              "<Figure size 432x288 with 0 Axes>"
            ]
          },
          "execution_count": 34,
          "metadata": {},
          "output_type": "execute_result"
        },
        {
          "data": {
            "text/plain": [
              "<Figure size 432x288 with 0 Axes>"
            ]
          },
          "metadata": {},
          "output_type": "display_data"
        }
      ],
      "source": [
        "plt.figure()"
      ]
    },
    {
      "cell_type": "code",
      "execution_count": null,
      "metadata": {
        "colab": {
          "base_uri": "https://localhost:8080/",
          "height": 281
        },
        "id": "TJ7UI2TQXpo5",
        "outputId": "1e5682f6-5012-4a6b-a76b-25366c77bcc2"
      },
      "outputs": [
        {
          "data": {
            "image/png": "[encoded data removed]",
            "text/plain": [
              "<Figure size 432x288 with 1 Axes>"
            ]
          },
          "metadata": {},
          "output_type": "display_data"
        }
      ],
      "source": [
        "plt.plot(epochs, loss, 'bo', label='Training loss')\n",
        "plt.plot(epochs, val_loss, 'b', label='Validation loss')\n",
        "plt.title('Training and validation loss')\n",
        "plt.legend()\n",
        "plt.show()"
      ]
    },
    {
      "cell_type": "code",
      "execution_count": null,
      "metadata": {
        "id": "v8AGZYG6Xr_k"
      },
      "outputs": [],
      "source": [
        ""
      ]
    }
  ],
  "metadata": {
    "accelerator": "GPU",
    "colab": {
      "collapsed_sections": [
        "C33R-B7_z0Ne"
      ],
      "name": "Copy of Dog_vs_Cat Convet Example (Image Classification) .ipynb",
      "provenance": []
    },
    "kernelspec": {
      "display_name": "Python 3",
      "name": "python3"
    },
    "language_info": {
      "name": "python"
    }
  },
  "nbformat": 4,
  "nbformat_minor": 0
}